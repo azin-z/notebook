{
 "cells": [
  {
   "cell_type": "code",
   "execution_count": 1,
   "id": "6b5d9fd3-b46a-40c2-a2c9-eac97e7504b2",
   "metadata": {},
   "outputs": [
    {
     "name": "stdout",
     "output_type": "stream",
     "text": [
      "hello\n"
     ]
    }
   ],
   "source": [
    "print('hello')"
   ]
  },
  {
   "cell_type": "code",
   "execution_count": null,
   "id": "fca5dee8-157c-48ab-9e3d-62fefa3c588b",
   "metadata": {},
   "outputs": [],
   "source": [
    "print({name})"
   ]
  },
  {
   "cell_type": "code",
   "execution_count": null,
   "id": "a7c94606-3593-4b1a-945a-8cd18566110c",
   "metadata": {},
   "outputs": [],
   "source": []
  }
 ],
 "metadata": {
  "kernelspec": {
   "display_name": "Python 3 (ipykernel)",
   "language": "python",
   "name": "python3"
  },
  "language_info": {
   "codemirror_mode": {
    "name": "ipython",
    "version": 3
   },
   "file_extension": ".py",
   "mimetype": "text/x-python",
   "name": "python",
   "nbconvert_exporter": "python",
   "pygments_lexer": "ipython3",
   "version": "3.13.2"
  }
 },
 "nbformat": 4,
 "nbformat_minor": 5
}
